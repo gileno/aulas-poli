{
 "cells": [
  {
   "cell_type": "code",
   "execution_count": 1,
   "metadata": {
    "collapsed": true
   },
   "outputs": [],
   "source": [
    "class Tempo:\n",
    "    pass"
   ]
  },
  {
   "cell_type": "code",
   "execution_count": 2,
   "metadata": {
    "collapsed": true
   },
   "outputs": [],
   "source": [
    "t1 = Tempo()"
   ]
  },
  {
   "cell_type": "code",
   "execution_count": 3,
   "metadata": {},
   "outputs": [
    {
     "data": {
      "text/plain": [
       "__main__.Tempo"
      ]
     },
     "execution_count": 3,
     "metadata": {},
     "output_type": "execute_result"
    }
   ],
   "source": [
    "type(t1)"
   ]
  },
  {
   "cell_type": "code",
   "execution_count": 4,
   "metadata": {
    "collapsed": true
   },
   "outputs": [],
   "source": [
    "t1.hora = 14\n",
    "t1.minuto = 1\n",
    "t1.segundo = 30"
   ]
  },
  {
   "cell_type": "code",
   "execution_count": 5,
   "metadata": {
    "collapsed": true
   },
   "outputs": [],
   "source": [
    "t2 = Tempo()\n",
    "t2.hora = 14\n",
    "t2.minuto = 3\n",
    "t2.segundo = 40"
   ]
  },
  {
   "cell_type": "code",
   "execution_count": 6,
   "metadata": {},
   "outputs": [
    {
     "data": {
      "text/plain": [
       "14"
      ]
     },
     "execution_count": 6,
     "metadata": {},
     "output_type": "execute_result"
    }
   ],
   "source": [
    "t1.hora"
   ]
  },
  {
   "cell_type": "code",
   "execution_count": 7,
   "metadata": {},
   "outputs": [
    {
     "data": {
      "text/plain": [
       "14"
      ]
     },
     "execution_count": 7,
     "metadata": {},
     "output_type": "execute_result"
    }
   ],
   "source": [
    "t2.hora"
   ]
  },
  {
   "cell_type": "code",
   "execution_count": 8,
   "metadata": {
    "collapsed": true
   },
   "outputs": [],
   "source": [
    "class Tempo:\n",
    "    hora = 0\n",
    "    minuto = 0\n",
    "    segundo = 0"
   ]
  },
  {
   "cell_type": "code",
   "execution_count": 9,
   "metadata": {
    "collapsed": true
   },
   "outputs": [],
   "source": [
    "t1 = Tempo()"
   ]
  },
  {
   "cell_type": "code",
   "execution_count": 10,
   "metadata": {},
   "outputs": [
    {
     "data": {
      "text/plain": [
       "0"
      ]
     },
     "execution_count": 10,
     "metadata": {},
     "output_type": "execute_result"
    }
   ],
   "source": [
    "t1.hora"
   ]
  },
  {
   "cell_type": "code",
   "execution_count": 11,
   "metadata": {
    "collapsed": true
   },
   "outputs": [],
   "source": [
    "t1.hora = 14"
   ]
  },
  {
   "cell_type": "code",
   "execution_count": 12,
   "metadata": {},
   "outputs": [
    {
     "data": {
      "text/plain": [
       "14"
      ]
     },
     "execution_count": 12,
     "metadata": {},
     "output_type": "execute_result"
    }
   ],
   "source": [
    "t1.hora"
   ]
  },
  {
   "cell_type": "code",
   "execution_count": 13,
   "metadata": {
    "collapsed": true
   },
   "outputs": [],
   "source": [
    "def imprimir_tempo(tempo):\n",
    "    print('%s:%s:%s' % (tempo.hora, tempo.minuto, tempo.segundo))\n",
    "    print('{}:{}:{}'.format(tempo.hora, tempo.minuto, tempo.segundo))"
   ]
  },
  {
   "cell_type": "code",
   "execution_count": 14,
   "metadata": {},
   "outputs": [
    {
     "name": "stdout",
     "output_type": "stream",
     "text": [
      "14:0:0\n",
      "14:0:0\n"
     ]
    }
   ],
   "source": [
    "imprimir_tempo(t1)"
   ]
  },
  {
   "cell_type": "code",
   "execution_count": 15,
   "metadata": {
    "collapsed": true
   },
   "outputs": [],
   "source": [
    "class Tempo:\n",
    "    hora = 0\n",
    "    minuto = 0\n",
    "    segundo = 0\n",
    "    def imprimir_tempo(t):\n",
    "        print('%s:%s:%s' % (t.hora, t.minuto, t.segundo))\n",
    "        print('{}:{}:{}'.format(t.hora, t.minuto, t.segundo))"
   ]
  },
  {
   "cell_type": "code",
   "execution_count": 16,
   "metadata": {
    "collapsed": true
   },
   "outputs": [],
   "source": [
    "t1 = Tempo()\n",
    "t1.hora = 14\n",
    "t1.minuto = 9\n",
    "t1.segundo = 15"
   ]
  },
  {
   "cell_type": "code",
   "execution_count": 17,
   "metadata": {},
   "outputs": [
    {
     "name": "stdout",
     "output_type": "stream",
     "text": [
      "14:9:15\n",
      "14:9:15\n"
     ]
    }
   ],
   "source": [
    "Tempo.imprimir_tempo(t1)"
   ]
  },
  {
   "cell_type": "code",
   "execution_count": 18,
   "metadata": {},
   "outputs": [
    {
     "name": "stdout",
     "output_type": "stream",
     "text": [
      "14:9:15\n",
      "14:9:15\n"
     ]
    }
   ],
   "source": [
    "t1.imprimir_tempo()"
   ]
  },
  {
   "cell_type": "code",
   "execution_count": 19,
   "metadata": {
    "collapsed": true
   },
   "outputs": [],
   "source": [
    "class Tempo:\n",
    "    hora = 0\n",
    "    minuto = 0\n",
    "    segundo = 0\n",
    "    def imprimir_tempo(self):\n",
    "        print('%s:%s:%s' % (self.hora, self.minuto, self.segundo))\n",
    "        print('{}:{}:{}'.format(self.hora, self.minuto, self.segundo))"
   ]
  },
  {
   "cell_type": "code",
   "execution_count": 20,
   "metadata": {},
   "outputs": [
    {
     "name": "stdout",
     "output_type": "stream",
     "text": [
      "14:9:15\n",
      "14:9:15\n"
     ]
    }
   ],
   "source": [
    "t1 = Tempo()\n",
    "t1.hora = 14\n",
    "t1.minuto = 9\n",
    "t1.segundo = 15\n",
    "t1.imprimir_tempo()"
   ]
  },
  {
   "cell_type": "code",
   "execution_count": 23,
   "metadata": {
    "collapsed": true
   },
   "outputs": [],
   "source": [
    "class Tempo:\n",
    "    hora = 0\n",
    "    minuto = 0\n",
    "    segundo = 0\n",
    "    def imprimir_tempo(self):\n",
    "        print('%s:%s:%s' % (self.hora, self.minuto, self.segundo))\n",
    "        print('{}:{}:{}'.format(self.hora, self.minuto, self.segundo))\n",
    "    def somar_minutos(self, minutos):\n",
    "        self.hora = self.hora + ((self.minuto + minutos) // 60)\n",
    "        self.minuto = (self.minuto + minutos) % 60"
   ]
  },
  {
   "cell_type": "code",
   "execution_count": 24,
   "metadata": {},
   "outputs": [
    {
     "name": "stdout",
     "output_type": "stream",
     "text": [
      "15:49:15\n",
      "15:49:15\n"
     ]
    }
   ],
   "source": [
    "t1 = Tempo()\n",
    "t1.hora = 14\n",
    "t1.minuto = 9\n",
    "t1.segundo = 15\n",
    "t1.somar_minutos(100)\n",
    "t1.imprimir_tempo()"
   ]
  },
  {
   "cell_type": "code",
   "execution_count": null,
   "metadata": {
    "collapsed": true
   },
   "outputs": [],
   "source": []
  }
 ],
 "metadata": {
  "kernelspec": {
   "display_name": "Python 3",
   "language": "python",
   "name": "python3"
  },
  "language_info": {
   "codemirror_mode": {
    "name": "ipython",
    "version": 3
   },
   "file_extension": ".py",
   "mimetype": "text/x-python",
   "name": "python",
   "nbconvert_exporter": "python",
   "pygments_lexer": "ipython3",
   "version": "3.6.0"
  }
 },
 "nbformat": 4,
 "nbformat_minor": 2
}
